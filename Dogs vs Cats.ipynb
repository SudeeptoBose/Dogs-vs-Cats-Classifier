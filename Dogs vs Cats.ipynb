{
 "metadata": {
  "language_info": {
   "codemirror_mode": {
    "name": "ipython",
    "version": 3
   },
   "file_extension": ".py",
   "mimetype": "text/x-python",
   "name": "python",
   "nbconvert_exporter": "python",
   "pygments_lexer": "ipython3",
   "version": "3.8.3-final"
  },
  "orig_nbformat": 2,
  "kernelspec": {
   "name": "python3",
   "display_name": "Python 3.8.3 64-bit",
   "metadata": {
    "interpreter": {
     "hash": "18a9ebbdd892e819852d481bfed4d5e51db277deb6ef5eee2c630a7e1e2f916a"
    }
   }
  }
 },
 "nbformat": 4,
 "nbformat_minor": 2,
 "cells": [
  {
   "cell_type": "code",
   "execution_count": 4,
   "metadata": {},
   "outputs": [],
   "source": [
    "# Import required libraries\n",
    "import numpy as np\n",
    "import cv2\n",
    "import os\n",
    "import random\n",
    "import matplotlib.pyplot as plt\n",
    "import pickle\n"
   ]
  },
  {
   "cell_type": "code",
   "execution_count": 9,
   "metadata": {},
   "outputs": [],
   "source": [
    "# Read the files\n",
    "directory = r'C:\\Users\\Sudeepto\\Desktop\\Dogs vs Cats Classifier\\dogscats\\train'\n",
    "categories = ['cats','dogs']"
   ]
  },
  {
   "cell_type": "code",
   "execution_count": 15,
   "metadata": {},
   "outputs": [
    {
     "output_type": "stream",
     "name": "stdout",
     "text": [
      "C:\\Users\\Sudeepto\\Desktop\\Dogs vs Cats Classifier\\dogscats\\train\\cats\n",
      "C:\\Users\\Sudeepto\\Desktop\\Dogs vs Cats Classifier\\dogscats\\train\\dogs\n"
     ]
    }
   ],
   "source": [
    "# Import the images and convert them into arrays\n",
    "\n",
    "img_size = 150  \n",
    "\n",
    "data = []\n",
    "\n",
    "for category in categories:\n",
    "    folder = os.path.join(directory, category)\n",
    "    label = categories.index(category)\n",
    "    print(folder) # check if its working\n",
    "     # This method lists all particular files present in the folder\n",
    "    for img in os.listdir(folder):\n",
    "        img_path = os.path.join(folder, img)\n",
    "        # print(img_path)\n",
    "        # break\n",
    "        img_arr = cv2.imread(img_path)\n",
    "        img_arr = cv2.resize(img_arr, (img_size,img_size))\n",
    "        # plt.imshow(img_arr)\n",
    "        # break\n",
    "        data.append([img_arr, label])\n"
   ]
  },
  {
   "cell_type": "code",
   "execution_count": 16,
   "metadata": {},
   "outputs": [
    {
     "output_type": "execute_result",
     "data": {
      "text/plain": [
       "23000"
      ]
     },
     "metadata": {},
     "execution_count": 16
    }
   ],
   "source": [
    "# See if all the data is there for training\n",
    "len(data)"
   ]
  },
  {
   "cell_type": "code",
   "execution_count": 17,
   "metadata": {},
   "outputs": [],
   "source": [
    "# We need to shuffle the data\n",
    "random.shuffle(data)"
   ]
  },
  {
   "cell_type": "code",
   "execution_count": 19,
   "metadata": {},
   "outputs": [
    {
     "output_type": "execute_result",
     "data": {
      "text/plain": [
       "[array([[[131, 190, 206],\n",
       "         [130, 189, 205],\n",
       "         [130, 189, 205],\n",
       "         ...,\n",
       "         [255, 255, 255],\n",
       "         [255, 255, 255],\n",
       "         [255, 255, 255]],\n",
       " \n",
       "        [[131, 190, 206],\n",
       "         [130, 189, 205],\n",
       "         [130, 189, 205],\n",
       "         ...,\n",
       "         [255, 255, 255],\n",
       "         [255, 255, 255],\n",
       "         [255, 255, 255]],\n",
       " \n",
       "        [[131, 190, 206],\n",
       "         [130, 189, 205],\n",
       "         [130, 189, 205],\n",
       "         ...,\n",
       "         [255, 255, 255],\n",
       "         [255, 255, 255],\n",
       "         [255, 255, 255]],\n",
       " \n",
       "        ...,\n",
       " \n",
       "        [[175, 170, 169],\n",
       "         [178, 173, 172],\n",
       "         [182, 177, 176],\n",
       "         ...,\n",
       "         [232, 217, 208],\n",
       "         [235, 220, 211],\n",
       "         [235, 220, 211]],\n",
       " \n",
       "        [[178, 173, 172],\n",
       "         [176, 171, 170],\n",
       "         [180, 175, 174],\n",
       "         ...,\n",
       "         [231, 216, 207],\n",
       "         [233, 218, 209],\n",
       "         [235, 220, 211]],\n",
       " \n",
       "        [[172, 167, 166],\n",
       "         [170, 165, 164],\n",
       "         [176, 171, 170],\n",
       "         ...,\n",
       "         [231, 216, 207],\n",
       "         [233, 218, 209],\n",
       "         [235, 220, 211]]], dtype=uint8),\n",
       " 0]"
      ]
     },
     "metadata": {},
     "execution_count": 19
    }
   ],
   "source": [
    "# Visiualize the data inside the array\n",
    "data[0]\n"
   ]
  },
  {
   "cell_type": "code",
   "execution_count": 26,
   "metadata": {},
   "outputs": [],
   "source": [
    "x = []\n",
    "y = []\n",
    "\n",
    "# storing features and labels inside the arrays\n",
    "for features, labels in data:\n",
    "    x.append(features)\n",
    "    y.append(labels)\n",
    "    # print(x,y)\n",
    "    # break"
   ]
  },
  {
   "cell_type": "code",
   "execution_count": 27,
   "metadata": {},
   "outputs": [
    {
     "output_type": "execute_result",
     "data": {
      "text/plain": [
       "23000"
      ]
     },
     "metadata": {},
     "execution_count": 27
    }
   ],
   "source": [
    "x = np.array(x)\n",
    "y = np.array(y)\n",
    "\n",
    "len(x)\n",
    "len(y)"
   ]
  },
  {
   "cell_type": "code",
   "execution_count": 28,
   "metadata": {},
   "outputs": [],
   "source": [
    "pickle.dump(x, open('x.pkl', 'wb'))\n",
    "pickle.dump(y, open('y.pkl', 'wb'))"
   ]
  }
 ]
}